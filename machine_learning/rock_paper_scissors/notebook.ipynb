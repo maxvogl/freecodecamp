{
 "cells": [
  {
   "cell_type": "code",
   "execution_count": 1,
   "metadata": {},
   "outputs": [],
   "source": [
    "import itertools\n",
    "import pandas as pd\n",
    "import numpy as np\n",
    "import matplotlib.pyplot as plt"
   ]
  },
  {
   "cell_type": "markdown",
   "metadata": {},
   "source": [
    "# freecodecamp - Rock Scissor Paper challenge -\n",
    "\n",
    "As part of the \"Machine Learning Path\", freecodecamp let you do <B>\"Rock, Paper, Scissors\"</B> Project where you have to change a provided function called <I>Player</I>. You can find the function within the <I>RPS.py</I>-File, which is the only file besides the <I>main.py</I>-File you should modify!\n",
    "\n",
    "Below you will find a way with description how to solve this problem. More information about <B>\"Rock, Paper, Scissors\"</B> and a Python contest where other enthusiasts create bots that even reach a win rate of 80% can be found here: [<B>RPSCONTEST</B>](http://www.rpscontest.com/) please note the contest is finished, but you still find the bots plus code."
   ]
  },
  {
   "cell_type": "markdown",
   "metadata": {},
   "source": [
    "#### Load bot's"
   ]
  },
  {
   "cell_type": "code",
   "execution_count": 2,
   "metadata": {},
   "outputs": [],
   "source": [
    "from RPS_game import play, mrugesh, abbey, quincy, kris, human, random_player"
   ]
  },
  {
   "cell_type": "markdown",
   "metadata": {},
   "source": [
    "##### fcc's initial \"player\" function, which have to be adapt"
   ]
  },
  {
   "cell_type": "code",
   "execution_count": 3,
   "metadata": {},
   "outputs": [],
   "source": [
    "def player(prev_play, opponent_history=[]):\n",
    "    # opponent_history = set() if opponent_history is None else opponent_history\n",
    "    # opponent_history = opponent_history if opponent_history.count('') < 2 else []\n",
    "    opponent_history.append(prev_play)\n",
    "    # print(opponent_history)\n",
    "    \n",
    "    guess = \"R\"\n",
    "    if len(opponent_history) > 2:\n",
    "        guess = opponent_history[-2]\n",
    "\n",
    "    return guess"
   ]
  },
  {
   "cell_type": "markdown",
   "metadata": {},
   "source": [
    "##### Check the inital winning rate of fcc against the other bots"
   ]
  },
  {
   "cell_type": "code",
   "execution_count": 4,
   "metadata": {},
   "outputs": [],
   "source": [
    "players = {\"Abbey\" : abbey,\n",
    "           \"fcc\" : player,\n",
    "           \"Kris\" : kris,\n",
    "           \"Mrugesh\" : mrugesh,\n",
    "           \"Quincy\" : quincy}\n",
    "n_games = 1000"
   ]
  },
  {
   "cell_type": "code",
   "execution_count": 5,
   "metadata": {},
   "outputs": [],
   "source": [
    "def play_scheme(player):\n",
    "    rate = {\"Abbey\" : [],\n",
    "            \"Kris\" : [],\n",
    "            \"Mrugesh\" : [],\n",
    "            \"Quincy\" : []\n",
    "           }\n",
    "    \n",
    "    for name in rate.keys():\n",
    "        rate[name] = play(player, players[name], num_games=1000)\n",
    "    \n",
    "    return rate"
   ]
  },
  {
   "cell_type": "code",
   "execution_count": 6,
   "metadata": {},
   "outputs": [
    {
     "name": "stdout",
     "output_type": "stream",
     "text": [
      "Final results: {'p1': 15, 'p2': 650, 'tie': 335}\n",
      "Player 1 win rate: 2.2556390977443606%\n",
      "Final results: {'p1': 334, 'p2': 0, 'tie': 665}\n",
      "Player 1 win rate: 100.0%\n",
      "Final results: {'p1': 0, 'p2': 272, 'tie': 727}\n",
      "Player 1 win rate: 0.0%\n",
      "Final results: {'p1': 201, 'p2': 798, 'tie': 0}\n",
      "Player 1 win rate: 20.12012012012012%\n"
     ]
    }
   ],
   "source": [
    "winning_rate = play_scheme(player)"
   ]
  },
  {
   "cell_type": "code",
   "execution_count": 7,
   "metadata": {},
   "outputs": [],
   "source": [
    "def barplot(rate):\n",
    "    fig, ax=plt.subplots()\n",
    "    color = [\"tab:red\", \"tab:blue\", \"black\", \"tab:green\"]\n",
    "    ax.bar(rate.keys(), rate.values(), color=color)\n",
    "    ax.set_ylabel(\"Winning rate (%)\", fontsize=14)\n",
    "    plt.show()"
   ]
  },
  {
   "cell_type": "code",
   "execution_count": 8,
   "metadata": {},
   "outputs": [
    {
     "data": {
      "image/png": "[encoded data removed]",
      "text/plain": [
       "<Figure size 640x480 with 1 Axes>"
      ]
     },
     "metadata": {},
     "output_type": "display_data"
    }
   ],
   "source": [
    "barplot(winning_rate)"
   ]
  },
  {
   "cell_type": "markdown",
   "metadata": {},
   "source": [
    "With the initial code provided, we only beat <I>Kris</I>, against the other bots our win rate is roughly miserable. To understand why this is, let's now take a look at the four bots provided by <I>fcc</I> and try to understand them."
   ]
  },
  {
   "cell_type": "markdown",
   "metadata": {},
   "source": [
    "### Analysing the bots"
   ]
  },
  {
   "cell_type": "markdown",
   "metadata": {},
   "source": [
    "Let's start alphabetical with <B>Abbey</B>'s code:\n",
    "```Python\n",
    "def abbey(prev_opponent_play,\n",
    "          opponent_history=[],\n",
    "          play_order=[{\n",
    "              \"RR\": 0,\n",
    "              \"RP\": 0,\n",
    "              \"RS\": 0,\n",
    "              \"PR\": 0,\n",
    "              \"PP\": 0,\n",
    "              \"PS\": 0,\n",
    "              \"SR\": 0,\n",
    "              \"SP\": 0,\n",
    "              \"SS\": 0,\n",
    "          }]):\n",
    "    \n",
    "    if not prev_opponent_play:\n",
    "        prev_opponent_play = 'R'\n",
    "    opponent_history.append(prev_opponent_play)\n",
    "\n",
    "    last_two = \"\".join(opponent_history[-2:])\n",
    "    if len(last_two) == 2:\n",
    "        play_order[0][last_two] += 1\n",
    "\n",
    "    potential_plays = [\n",
    "        prev_opponent_play + \"R\",\n",
    "        prev_opponent_play + \"P\",\n",
    "        prev_opponent_play + \"S\",\n",
    "    ]\n",
    "\n",
    "    sub_order = {\n",
    "        k: play_order[0][k]\n",
    "        for k in potential_plays if k in play_order[0]\n",
    "    }\n",
    "\n",
    "    prediction = max(sub_order, key=sub_order.get)[-1:]\n",
    "\n",
    "    ideal_response = {'P': 'S', 'R': 'P', 'S': 'R'}\n",
    "\n",
    "    return ideal_response[prediction]\n",
    "```\n",
    "<I>Abbey</I> get the previous oponnend move as a input parameter. Furthermore, the bot save this play in a history variable, which is by default a empty list. You only need this argument if you want to keep track of the opponent history. \n",
    "<div class=\"alert alert-block alert-danger\">\n",
    "<b>Just don't:</b> An empty list to store the opponent history is not an ideal solution. It can/will cause problems when you want to replay games or when you try to play different combinations, especially in a notebook environment. Since the history does not empty after each session (<code>play(player, abbey, 1000)</code>) it automatically skew the repeatability. So, for example, if you play against Abbey you will get a different result for each new session (<code>[play(player, abbey, 1000) for i in range(10)]</code>). Here this approach is provided by fcc, but for your own codes in the future I recommend you check this out:\n",
    "<a href=\"https://www.oreilly.com/library/view/python-cookbook/0596001673/ch17s08.html\">memoising</a> or <a href=\"https://en.wikipedia.org/wiki/Memoization\">wikipedia</a>\n",
    "</div>\n",
    "Beside this variable, the bot has also a dictionary of all possible correlations of <code>[\"R\", \"P\", \"S\"]</code> with itself. This means that the bot <I>Abbey</I> uses the opponent's previous play <code>prev_opponent_play</code> and the current possible play <code>potential_plays</code> (previous plus possible moves) to predict the actual move. For example, if the previous move was <B>Rock</B> than the possible actual moves could be <B>Rock</B>, <B>Paper</B> or <B>Scissor</B> (<code>[\"RR\", \"RP\", \"RS\"]</code>). Now let's assume that our opponent will play the combination, which is represented most frequently within our <code>play_order</code> out of the 3 possible ones. The <code>play_order</code> dictionary has a size of $3 \\times 3$ and by default every combination is assigned zero. Within <code>sub_order</code>, we check the previous frequency of our opponent's possible moves by selecting the most common combination within <code>sub_order</code> as our <code>prediction</code>. According to this prediction, the bot will choose its <code>ideal_response</code>. This is a kind of a simple <a href=\"https://towardsdatascience.com/hands-on-markov-chains-example-using-python-8138bf2bd971\">Markov-chain</a>."
   ]
  },
  {
   "cell_type": "markdown",
   "metadata": {},
   "source": [
    "<B>Kris</B>'s code:\n",
    "```Python\n",
    "def kris(prev_opponent_play):\n",
    "    if prev_opponent_play == '':\n",
    "        prev_opponent_play = \"R\"\n",
    "    ideal_response = {'P': 'S', 'R': 'P', 'S': 'R'}\n",
    "    return ideal_response[prev_opponent_play]\n",
    "```\n",
    "<I>Kris</I> is a much simpler bot than <I>Abbey</I>. The bot only get the previous oponnend move as a input parameter and assumes that his opponent will throw the same move again. His first guess is that his opponent will also play <B>Rock</B>."
   ]
  },
  {
   "cell_type": "markdown",
   "metadata": {},
   "source": [
    "<B>Mrugesh</B>'s code:\n",
    "```Python\n",
    "def mrugesh(prev_opponent_play, opponent_history=[]):\n",
    "    opponent_history.append(prev_opponent_play)\n",
    "    last_ten = opponent_history[-10:]\n",
    "    most_frequent = max(set(last_ten), key=last_ten.count)\n",
    "\n",
    "    if most_frequent == '':\n",
    "        most_frequent = \"S\"\n",
    "\n",
    "    ideal_response = {'P': 'S', 'R': 'P', 'S': 'R'}\n",
    "    return ideal_response[most_frequent]\n",
    "```\n",
    "<I>Mrugesh</I> takes the opponent's previous move as an input parameter and an argument that records his opponent's history, which by default is an empty list. This opponent history is needed because the bot assumes that his opponent has a game pattern where he wants to beat the most frequent move from the last ten games in each case. The bots initial guess is <B>Scissor</B>, a move which is also suggested by [Graham Walker](https://statmodeling.stat.columbia.edu/2007/05/21/how_to_win_at_r/)."
   ]
  },
  {
   "cell_type": "markdown",
   "metadata": {},
   "source": [
    "<B>Quincy</B>'s code:\n",
    "```PYthon\n",
    "def quincy(prev_play, counter=[0]):\n",
    "\n",
    "    counter[0] += 1\n",
    "    choices = [\"R\", \"R\", \"P\", \"P\", \"S\"]\n",
    "    return choices[counter[0] % len(choices)]\n",
    "```\n",
    "<I>Quincy</I> plays a simple pattern <code>[\"R\", \"P\", \"P\", \"S\", \"R\"]</code> that repeats every 5 games. For this he has a counter as input parameter, which is 0 by default. Also, like all other bots, he has his opponent's previous move as an input parameter, which he does not need at all. His first move is <B>Rock</B>."
   ]
  },
  {
   "cell_type": "markdown",
   "metadata": {},
   "source": [
    "And finally, let's take a look to the provided code from <B>freecodecamp</B>:\n",
    "```Python\n",
    "def player(prev_play, opponent_history=[]):\n",
    "    opponent_history.append(prev_play)\n",
    "\n",
    "    guess = \"R\"\n",
    "    if len(opponent_history) > 2:\n",
    "        guess = opponent_history[-2]\n",
    "\n",
    "    return guess\n",
    "```\n",
    "In the initial situation, the bot \"<I>player</I>\" takes his opponent's official move and stores it in a history argument, which is a empty list by default. In the his first two turns, he plays <B>Rock</B>. After the second game, he will repeat his opponent's move before last."
   ]
  },
  {
   "cell_type": "markdown",
   "metadata": {},
   "source": [
    "### Modifying the <code>player(prev_play):</code> function\n",
    "\n",
    "Now we try to beat our competitors. To pass this challenge, our program must play against all four different bots and win at least more than 60% of the games. Furthermore, we want to keep our function as simple as possible and therefore we will not load any additional packages.<br>First, however, let's verify that the statement that randomly guessing the moves gives a 50% chance of winning is true. (therefore we need numpy's random choice)"
   ]
  },
  {
   "cell_type": "markdown",
   "metadata": {},
   "source": [
    "##### Random choice"
   ]
  },
  {
   "cell_type": "code",
   "execution_count": 9,
   "metadata": {},
   "outputs": [],
   "source": [
    "def random_player(prev_play, opponent_history=[]):\n",
    "    opponent_history.append(prev_play)\n",
    "\n",
    "    possible_choices = [\"R\", \"P\", \"S\"]  # [\"Rock\", \"Paper\", \"Scissor\"]\n",
    "    choice = np.random.choice(possible_choices, 1)    \n",
    "    return str(choice[0])"
   ]
  },
  {
   "cell_type": "code",
   "execution_count": 12,
   "metadata": {},
   "outputs": [
    {
     "name": "stdout",
     "output_type": "stream",
     "text": [
      "Final results: {'p1': 323, 'p2': 316, 'tie': 361}\n",
      "Player 1 win rate: 50.54773082942097%\n",
      "Final results: {'p1': 337, 'p2': 341, 'tie': 322}\n",
      "Player 1 win rate: 49.70501474926254%\n",
      "Final results: {'p1': 322, 'p2': 359, 'tie': 319}\n",
      "Player 1 win rate: 47.28340675477239%\n",
      "Final results: {'p1': 339, 'p2': 328, 'tie': 333}\n",
      "Player 1 win rate: 50.82458770614693%\n"
     ]
    }
   ],
   "source": [
    "random_winning_rate = play_scheme(random_player)"
   ]
  },
  {
   "cell_type": "code",
   "execution_count": 13,
   "metadata": {},
   "outputs": [
    {
     "data": {
      "image/png": "[encoded data removed]",
      "text/plain": [
       "<Figure size 640x480 with 1 Axes>"
      ]
     },
     "metadata": {},
     "output_type": "display_data"
    }
   ],
   "source": [
    "barplot(random_winning_rate)"
   ]
  },
  {
   "cell_type": "markdown",
   "metadata": {},
   "source": [
    "As expected, we reach nearby a 50% winning rate against all other bots (a similar function is also provided by <B>fcc</B>). However, we cannot achieve the requirements of at least slightly more than 60% with this approach."
   ]
  },
  {
   "cell_type": "markdown",
   "metadata": {},
   "source": [
    "##### Modifying <B>Abbey</B>'s code by changing the number of last games!"
   ]
  },
  {
   "cell_type": "code",
   "execution_count": 15,
   "metadata": {},
   "outputs": [],
   "source": [
    "def abbey_modified(prev_play, opponent_history=[], n_last_games=5, play_order={}):\n",
    "    ideal_response = {\"R\" : \"P\", \"P\" : \"S\", \"S\" : \"R\"}\n",
    "    prediction = \"S\"  # initial choice \"Scissor First\"!\n",
    "\n",
    "    if not prev_play:\n",
    "        prev_play = prediction\n",
    "    opponent_history.append(prev_play)\n",
    "\n",
    "    if len(opponent_history) > (n_last_games - 1):\n",
    "        last_games = \"\".join(opponent_history[-n_last_games:])\n",
    "        play_order[last_games] = play_order.get(last_games, 0) + 1\n",
    "        potential_plays = [\"\".join([*opponent_history[-(n_last_games-1):], move])\n",
    "                           for move in list(ideal_response.keys())]\n",
    "        \n",
    "        sub_order = {k : play_order[k]\n",
    "                     for k in potential_plays\n",
    "                     if k in play_order\n",
    "                    }\n",
    "        \n",
    "        if sub_order:\n",
    "            prediction = max(sub_order, key=sub_order.get)[-1:]\n",
    "\n",
    "    return ideal_response[prediction]"
   ]
  },
  {
   "cell_type": "code",
   "execution_count": 16,
   "metadata": {},
   "outputs": [
    {
     "name": "stdout",
     "output_type": "stream",
     "text": [
      "Final results: {'p1': 808, 'p2': 107, 'tie': 85}\n",
      "Player 1 win rate: 88.30601092896175%\n",
      "Final results: {'p1': 1000, 'p2': 0, 'tie': 0}\n",
      "Player 1 win rate: 100.0%\n",
      "Final results: {'p1': 820, 'p2': 168, 'tie': 12}\n",
      "Player 1 win rate: 82.99595141700405%\n",
      "Final results: {'p1': 983, 'p2': 15, 'tie': 2}\n",
      "Player 1 win rate: 98.49699398797596%\n"
     ]
    }
   ],
   "source": [
    "abbey_modified_winning_rate = play_scheme(abbey_modified)"
   ]
  },
  {
   "cell_type": "code",
   "execution_count": 17,
   "metadata": {},
   "outputs": [
    {
     "data": {
      "image/png": "[encoded data removed]",
      "text/plain": [
       "<Figure size 640x480 with 1 Axes>"
      ]
     },
     "metadata": {},
     "output_type": "display_data"
    }
   ],
   "source": [
    "barplot(abbey_modified_winning_rate)"
   ]
  },
  {
   "cell_type": "markdown",
   "metadata": {},
   "source": [
    "This result should be treated with caution. As mentioned before with <I>Abbey</I>, the opponent history does not empty. This means that the gameplay of <I>Abbey</I> and <I>Mrugesh</I> does not resemble a fresh game with empty history.\n",
    "Anyway, you can use this code for the <I>RPS.py</I>-File and also play with the function arguments, vary the number of <code>n_last_games</code> or change the <code>prediction</code> to achieve the desired quota. \n",
    "Here are the <B>real</B> results with the function <code>abbey_modified</code>:\n",
    "\n",
    "<div class=\"alert alert-block alert-warning\">\n",
    "<b>Example:</b><br><br>\n",
    "Testing game against abbey...<br>\n",
    "Final results: {'p1': 518, 'p2': 278, 'tie': 204}<br>\n",
    "Player 1 win rate: 65.07537688442211%<br>\n",
    ".Testing game against kris...<br>\n",
    "Final results: {'p1': 484, 'p2': 201, 'tie': 315}<br>\n",
    "Player 1 win rate: 70.65693430656934%<br>\n",
    ".Testing game against mrugesh...<br>\n",
    "Final results: {'p1': 798, 'p2': 177, 'tie': 25}<br>\n",
    "Player 1 win rate: 81.84615384615384%<br>\n",
    ".Testing game against quincy...<br>\n",
    "Final results: {'p1': 958, 'p2': 6, 'tie': 36}<br>\n",
    "Player 1 win rate: 99.37759336099586%<br>\n",
    ".<br>\n",
    "----------------------------------------------------------------------<br>\n",
    "Ran 4 tests in 0.017s<br>\n",
    "<br>\n",
    "OK\n",
    "</div>\n",
    "Have fun trying ;)"
   ]
  },
  {
   "cell_type": "markdown",
   "metadata": {},
   "source": [
    "Some helpfull links for <B>Markov-Chain</B>:\n",
    "\n",
    "https://towardsdatascience.com/hands-on-markov-chains-example-using-python-8138bf2bd971\n",
    "\n",
    "https://towardsdatascience.com/how-to-win-over-70-matches-in-rock-paper-scissors-3e17e67e0dab\n",
    "\n",
    "https://www.datacamp.com/tutorial/markov-chains-python-tutorial"
   ]
  },
  {
   "cell_type": "markdown",
   "metadata": {},
   "source": [
    "Some interesting information about how to win <B>Rock, Paper, Scissor</B>\n",
    "\n",
    "https://statmodeling.stat.columbia.edu/2007/05/21/how_to_win_at_r/"
   ]
  }
 ],
 "metadata": {
  "kernelspec": {
   "display_name": "Python 3",
   "language": "python",
   "name": "python3"
  },
  "language_info": {
   "codemirror_mode": {
    "name": "ipython",
    "version": 3
   },
   "file_extension": ".py",
   "mimetype": "text/x-python",
   "name": "python",
   "nbconvert_exporter": "python",
   "pygments_lexer": "ipython3",
   "version": "3.10.12"
  },
  "orig_nbformat": 4
 },
 "nbformat": 4,
 "nbformat_minor": 2
}
